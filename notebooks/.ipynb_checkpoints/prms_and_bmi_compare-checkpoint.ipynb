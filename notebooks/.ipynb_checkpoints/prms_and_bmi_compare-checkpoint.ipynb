{
 "cells": [
  {
   "cell_type": "markdown",
   "metadata": {},
   "source": [
    "comparison of prms6 and bmi-soil.  \n"
   ]
  },
  {
   "cell_type": "code",
   "execution_count": null,
   "metadata": {},
   "outputs": [],
   "source": [
    "import geopandas as gpd\n",
    "import xarray as xr\n",
    "import numpy as np\n",
    "import matplotlib.pyplot as plt"
   ]
  },
  {
   "cell_type": "code",
   "execution_count": null,
   "metadata": {},
   "outputs": [],
   "source": [
    "soil_file = '../bmi_prms_soil/irf_ex/pipestem_soil/output/summary_daily.nc'\n",
    "prms_file = r'B:\\gitbmi\\prms\\pipestem\\output\\summary_daily.nc'\n",
    "dsoil = xr.open_dataset(soil_file)\n",
    "dprms = xr.open_dataset(prms_file)"
   ]
  },
  {
   "cell_type": "code",
   "execution_count": null,
   "metadata": {},
   "outputs": [],
   "source": [
    "dsoil"
   ]
  },
  {
   "cell_type": "code",
   "execution_count": null,
   "metadata": {},
   "outputs": [],
   "source": [
    "s_smoist = dsoil.soil_moist\n",
    "p_smoist = dprms.soil_moist"
   ]
  },
  {
   "cell_type": "code",
   "execution_count": null,
   "metadata": {},
   "outputs": [],
   "source": [
    "fig, axes = plt.subplots(ncols=2)\n",
    "s_smoist[:,1].plot(ax=axes[0])\n",
    "p_smoist[:,1].plot(ax=axes[0])\n",
    "res = p_smoist - s_smoist\n",
    "res[:,1].plot(ax=axes[1])\n",
    "axes[0].set_title('soil_moist')\n",
    "axes[1].set_title('residual (prms-bmi)')\n",
    "plt.tight_layout()\n",
    "plt.draw()\n",
    "\n",
    "s_potetrechr = dsoil.potet_rechr\n",
    "p_potetrechr = dprms.potet_rechr\n",
    "fig, axes = plt.subplots(ncols=2)\n",
    "s_potetrechr[:,1].plot(ax=axes[0])\n",
    "p_potetrechr[:,1].plot(ax=axes[0])\n",
    "res = p_potetrechr - s_potetrechr\n",
    "res[:,1].plot(ax=axes[1])\n",
    "axes[0].set_title('potet_rechr')\n",
    "axes[1].set_title('residual (prms-bmi)')\n",
    "plt.tight_layout()\n",
    "plt.draw()\n",
    "\n",
    "s_potetlower = dsoil.potet_lower\n",
    "p_potetlower = dprms.potet_lower\n",
    "fig, axes = plt.subplots(ncols=2)\n",
    "s_potetlower[:,1].plot(ax=axes[0])\n",
    "p_potetlower[:,1].plot(ax=axes[0])\n",
    "res = p_potetlower - s_potetlower\n",
    "res[:,1].plot(ax=axes[1])\n",
    "axes[0].set_title('potet_lower')\n",
    "axes[1].set_title('residual (prms-bmi)')\n",
    "plt.tight_layout()\n",
    "plt.draw()\n",
    "\n",
    "s_infil = dsoil.infil\n",
    "p_infil = dprms.infil\n",
    "fig, axes = plt.subplots(ncols=2)\n",
    "s_infil[:,1].plot(ax=axes[0])\n",
    "p_infil[:,1].plot(ax=axes[0])\n",
    "res = p_infil - s_infil\n",
    "res[:,1].plot(ax=axes[1])\n",
    "axes[0].set_title('infil')\n",
    "axes[1].set_title('residual (prms-bmi)')\n",
    "plt.tight_layout()\n",
    "plt.draw()"
   ]
  },
  {
   "cell_type": "code",
   "execution_count": null,
   "metadata": {},
   "outputs": [],
   "source": []
  },
  {
   "cell_type": "code",
   "execution_count": null,
   "metadata": {},
   "outputs": [],
   "source": [
    "s_actet = dsoil.hru_actet\n",
    "p_actet = dprms.hru_actet\n",
    "fig, axes = plt.subplots(ncols=2)\n",
    "s_actet[:,1].plot(ax=axes[0])\n",
    "p_actet[:,1].plot(ax=axes[0])\n",
    "res = s_actet - p_actet\n",
    "res[:,1].plot(ax=axes[1])\n",
    "axes[0].set_title('hru_actet')\n",
    "axes[1].set_title('residual (prms-bmi)')\n",
    "plt.tight_layout()\n",
    "plt.draw()\n",
    "\n",
    "s_impervevap = dsoil.hru_impervevap\n",
    "p_impervevap = dprms.hru_impervevap\n",
    "fig, axes = plt.subplots(ncols=2)\n",
    "p_impervevap[:,1].plot(ax=axes[0])\n",
    "s_impervevap[:,1].plot(ax=axes[0])\n",
    "res = p_impervevap - s_impervevap\n",
    "res[:,1].plot(ax=axes[1])\n",
    "axes[0].set_title('hru_impervevap')\n",
    "axes[1].set_title('residual (prms-bmi)')\n",
    "plt.tight_layout()\n",
    "plt.draw()\n",
    "\n",
    "s_intcpevap = dsoil.hru_intcpevap\n",
    "p_iintcpevap = dprms.hru_intcpevap\n",
    "fig, axes = plt.subplots(ncols=2)\n",
    "p_iintcpevap[:,1].plot(ax=axes[0])\n",
    "s_intcpevap[:,1].plot(ax=axes[0])\n",
    "res = p_iintcpevap - s_intcpevap\n",
    "res[:,1].plot(ax=axes[1])\n",
    "axes[0].set_title('hru_intcpevap')\n",
    "axes[1].set_title('residual (prms-bmi)')\n",
    "plt.tight_layout()\n",
    "plt.draw()\n",
    "\n",
    "s_snowevap = dsoil.snow_evap\n",
    "p_snowevap = dprms.snow_evap\n",
    "fig, axes = plt.subplots(ncols=2)\n",
    "p_snowevap[:,1].plot(ax=axes[0])\n",
    "s_snowevap[:,1].plot(ax=axes[0])\n",
    "res = p_snowevap - s_snowevap\n",
    "res[:,1].plot(ax=axes[1])\n",
    "axes[0].set_title('snow_evap')\n",
    "axes[1].set_title('residual (prms-bmi)')\n",
    "plt.tight_layout()\n",
    "plt.draw()\n",
    "\n",
    "s_dprstevap = dsoil.dprst_evap_hru\n",
    "p_dprstevap = dprms.dprst_evap_hru\n",
    "fig, axes = plt.subplots(ncols=2)\n",
    "p_dprstevap[:,1].plot(ax=axes[0])\n",
    "s_dprstevap[:,1].plot(ax=axes[0])\n",
    "res = p_dprstevap - s_dprstevap\n",
    "res[:,1].plot(ax=axes[1])\n",
    "axes[0].set_title('dprst_evap_hru')\n",
    "axes[1].set_title('residual (prms-bmi)')\n",
    "plt.tight_layout()\n",
    "plt.draw()"
   ]
  },
  {
   "cell_type": "code",
   "execution_count": null,
   "metadata": {},
   "outputs": [],
   "source": [
    "s_actet = dsoil.slow_flow\n",
    "p_actet = dprms.slow_flow\n",
    "fig, axes = plt.subplots(ncols=2)\n",
    "p_actet[:,1].plot(ax=axes[0])\n",
    "s_actet[:,1].plot(ax=axes[0])\n",
    "res = p_actet - s_actet\n",
    "res[:,1].plot(ax=axes[1])\n",
    "axes[0].set_title('slow_flow')\n",
    "axes[1].set_title('residual (prms-bmi)')\n",
    "plt.tight_layout()\n",
    "plt.draw()"
   ]
  },
  {
   "cell_type": "code",
   "execution_count": null,
   "metadata": {},
   "outputs": [],
   "source": [
    "s_rechr = dsoil.recharge\n",
    "p_rechr = dprms.recharge\n",
    "fig, axes = plt.subplots(ncols=2)\n",
    "p_rechr[:,1].plot(ax=axes[0])\n",
    "s_rechr[:,1].plot(ax=axes[0])\n",
    "res = p_rechr - s_rechr\n",
    "res[:,1].plot(ax=axes[1])\n",
    "axes[0].set_title('recharge')\n",
    "axes[1].set_title('residual (prms-bmi)')\n",
    "plt.tight_layout()\n",
    "plt.draw()"
   ]
  },
  {
   "cell_type": "code",
   "execution_count": null,
   "metadata": {},
   "outputs": [],
   "source": [
    "s_s2gw = dsoil.soil_to_gw\n",
    "p_s2gw = dprms.soil_to_gw\n",
    "fig, axes = plt.subplots(ncols=2)\n",
    "p_s2gw[:,1].plot(ax=axes[0])\n",
    "s_s2gw[:,1].plot(ax=axes[0])\n",
    "res = p_s2gw - s_s2gw\n",
    "res[:,1].plot(ax=axes[1])\n",
    "axes[0].set_title('soil_to_gw')\n",
    "axes[1].set_title('residual (prms-bmi)')\n",
    "plt.tight_layout()\n",
    "plt.draw()"
   ]
  },
  {
   "cell_type": "code",
   "execution_count": null,
   "metadata": {},
   "outputs": [],
   "source": [
    "s_ssr2gw = dsoil.ssr_to_gw\n",
    "p_ssr2gw = dprms.ssr_to_gw\n",
    "fig, axes = plt.subplots(ncols=2)\n",
    "p_ssr2gw[:,1].plot(ax=axes[0])\n",
    "s_ssr2gw[:,1].plot(ax=axes[0])\n",
    "res = p_ssr2gw - s_ssr2gw\n",
    "res[:,1].plot(ax=axes[1])\n",
    "axes[0].set_title('ssr_to_gw')\n",
    "axes[1].set_title('residual (prms-bmi)')\n",
    "plt.tight_layout()\n",
    "plt.draw()"
   ]
  },
  {
   "cell_type": "code",
   "execution_count": null,
   "metadata": {},
   "outputs": [],
   "source": [
    "s_dprstseep = dsoil.dprst_seep_hru\n",
    "p_dprstseep = dprms.dprst_seep_hru\n",
    "fig, axes = plt.subplots(ncols=2)\n",
    "p_dprstseep[:,1].plot(ax=axes[0])\n",
    "s_dprstseep[:,1].plot(ax=axes[0])\n",
    "res = p_dprstseep - s_dprstseep\n",
    "res[:,1].plot(ax=axes[1])\n",
    "axes[0].set_title('dprst_seep_hru')\n",
    "axes[1].set_title('residual (prms-bmi)')\n",
    "plt.tight_layout()\n",
    "plt.draw()"
   ]
  },
  {
   "cell_type": "code",
   "execution_count": null,
   "metadata": {},
   "outputs": [],
   "source": [
    "s_impervevap = dsoil.hru_impervevap\n",
    "p_impervevap = dprms.hru_impervevap\n",
    "fig, axes = plt.subplots(ncols=2)\n",
    "p_impervevap[:,1].plot(ax=axes[0])\n",
    "s_impervevap[:,1].plot(ax=axes[0])\n",
    "res = p_impervevap - s_impervevap\n",
    "res[:,1].plot(ax=axes[1])\n",
    "axes[0].set_title('hru_impervevap')\n",
    "axes[1].set_title('residual (prms-bmi)')\n",
    "plt.tight_layout()\n",
    "plt.draw()"
   ]
  },
  {
   "cell_type": "code",
   "execution_count": null,
   "metadata": {},
   "outputs": [],
   "source": [
    "s_intcpevap = dsoil.hru_intcpevap\n",
    "p_iintcpevap = dprms.hru_intcpevap\n",
    "fig, axes = plt.subplots(ncols=2)\n",
    "p_iintcpevap[:,1].plot(ax=axes[0])\n",
    "s_intcpevap[:,1].plot(ax=axes[0])\n",
    "res = p_iintcpevap - s_intcpevap\n",
    "res[:,1].plot(ax=axes[1])\n",
    "axes[0].set_title('hru_intcpevap')\n",
    "axes[1].set_title('residual (prms-bmi)')\n",
    "plt.tight_layout()\n",
    "plt.draw()"
   ]
  },
  {
   "cell_type": "code",
   "execution_count": null,
   "metadata": {},
   "outputs": [],
   "source": [
    "s_snowevap = dsoil.snow_evap\n",
    "p_snowevap = dprms.snow_evap\n",
    "fig, axes = plt.subplots(ncols=2)\n",
    "p_iintcpevap[:,1].plot(ax=axes[0])\n",
    "s_snowevap[:,1].plot(ax=axes[0])\n",
    "res = p_snowevap - s_snowevap\n",
    "res[:,1].plot(ax=axes[1])\n",
    "axes[0].set_title('snow_evap')\n",
    "axes[1].set_title('residual (prms-bmi)')\n",
    "plt.tight_layout()\n",
    "plt.draw()"
   ]
  },
  {
   "cell_type": "code",
   "execution_count": null,
   "metadata": {},
   "outputs": [],
   "source": [
    "s_dprstevap = dsoil.dprst_evap_hru\n",
    "p_dprstevap = dprms.dprst_evap_hru\n",
    "fig, axes = plt.subplots(ncols=2)\n",
    "p_iintcpevap[:,1].plot(ax=axes[0])\n",
    "s_snowevap[:,1].plot(ax=axes[0])\n",
    "res = p_snowevap - s_snowevap\n",
    "res[:,1].plot(ax=axes[1])\n",
    "axes[0].set_title('snow_evap')\n",
    "axes[1].set_title('residual (prms-bmi)')\n",
    "plt.tight_layout()\n",
    "plt.draw()"
   ]
  }
 ],
 "metadata": {
  "kernelspec": {
   "display_name": "Python 3",
   "language": "python",
   "name": "python3"
  },
  "language_info": {
   "codemirror_mode": {
    "name": "ipython",
    "version": 3
   },
   "file_extension": ".py",
   "mimetype": "text/x-python",
   "name": "python",
   "nbconvert_exporter": "python",
   "pygments_lexer": "ipython3",
   "version": "3.6.9"
  }
 },
 "nbformat": 4,
 "nbformat_minor": 4
}
