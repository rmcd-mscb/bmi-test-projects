{
 "cells": [
  {
   "cell_type": "markdown",
   "metadata": {},
   "source": [
    "comparison of prms6 and bmi-soil.  \n"
   ]
  },
  {
   "cell_type": "code",
   "execution_count": 1,
   "metadata": {},
   "outputs": [],
   "source": [
    "import prms6bmi"
   ]
  },
  {
   "cell_type": "code",
   "execution_count": 2,
   "metadata": {},
   "outputs": [],
   "source": [
    "import geopandas as gpd\n",
    "import xarray as xr\n",
    "import numpy as np\n",
    "import matplotlib.pyplot as plt\n",
    "from pathlib import Path"
   ]
  },
  {
   "cell_type": "code",
   "execution_count": 3,
   "metadata": {},
   "outputs": [],
   "source": [
    "soil_file = Path('B:/gitbmi/bmi-prms6-soil/bmi_prms_soil\\irf_ex/pipestem_soil/output/summary_daily.nc')\n",
    "surf_file = Path('B:/gitbmi/bmi-prms6-soil/bmi_prms_soil/irf_ex/pipestem_surface/output/summary_daily.nc')\n",
    "prms_file = Path('B:/gitbmi/prms/_build/prms/pipestem/output/summary_daily.nc')\n",
    "clim_file = Path('B:/gitbmi/prms/_build/prms/pipestem/daymet.nc')\n",
    "dsoil = xr.open_dataset(soil_file)\n",
    "dprms = xr.open_dataset(prms_file)\n",
    "dsurf = xr.open_dataset(surf_file)\n",
    "clim = xr.open_dataset(clim_file)"
   ]
  },
  {
   "cell_type": "code",
   "execution_count": 4,
   "metadata": {},
   "outputs": [
    {
     "data": {
      "text/plain": [
       "<xarray.Dataset>\n",
       "Dimensions:  (hru: 14, time: 13515)\n",
       "Coordinates:\n",
       "  * time     (time) datetime64[ns] 1980-01-01 1980-01-02 ... 2016-12-31\n",
       "  * hru      (hru) int32 57874 57875 57878 57881 ... 57869 57870 57864 57865\n",
       "Data variables:\n",
       "    prcp     (time, hru) float32 ...\n",
       "    tmax     (time, hru) float32 ...\n",
       "    tmin     (time, hru) float32 ...\n",
       "Attributes:\n",
       "    Description:                Climate by HRU\n",
       "    Bandit_version:             0.6.3\n",
       "    NHM_version:                ff1b7fc29610bac9f5daa1ca0563d9f6962ddcf0\n",
       "    history:                    Mon Apr  8 10:11:53 2019: ncks -A tmin.nc day...\n",
       "    history_of_appended_files:  Mon Apr  8 10:11:53 2019: Appended file tmin....\n",
       "    NCO:                        netCDF Operators version 4.7.8 (Homepage = ht..."
      ]
     },
     "execution_count": 4,
     "metadata": {},
     "output_type": "execute_result"
    }
   ],
   "source": [
    "clim"
   ]
  },
  {
   "cell_type": "code",
   "execution_count": 5,
   "metadata": {},
   "outputs": [
    {
     "data": {
      "text/plain": [
       "<xarray.Dataset>\n",
       "Dimensions:              (nhru: 14, nsegment: 7, time: 731)\n",
       "Coordinates:\n",
       "  * time                 (time) datetime64[ns] 1980-01-01 ... 1981-12-31\n",
       "Dimensions without coordinates: nhru, nsegment\n",
       "Data variables:\n",
       "    nhm_id               (nhru) int32 ...\n",
       "    nhm_seg              (nsegment) int32 ...\n",
       "    hru_actet            (time, nhru) float32 ...\n",
       "    hru_impervevap       (time, nhru) float32 ...\n",
       "    hru_intcpevap        (time, nhru) float32 ...\n",
       "    snow_evap            (time, nhru) float32 ...\n",
       "    perv_actet           (time, nhru) float32 ...\n",
       "    slow_flow            (time, nhru) float32 ...\n",
       "    recharge             (time, nhru) float32 ...\n",
       "    soil_moist           (time, nhru) float32 ...\n",
       "    soil_to_gw           (time, nhru) float32 ...\n",
       "    ssr_to_gw            (time, nhru) float32 ...\n",
       "    dprst_seep_hru       (time, nhru) float64 ...\n",
       "    dprst_evap_hru       (time, nhru) float32 ...\n",
       "    infil                (time, nhru) float32 ...\n",
       "    sroff                (time, nhru) float32 ...\n",
       "    dunnian_flow         (time, nhru) float32 ...\n",
       "    pkwater_equiv        (time, nhru) float64 ...\n",
       "    snowmelt             (time, nhru) float32 ...\n",
       "    soil_rechr           (time, nhru) float32 ...\n",
       "    contrib_fraction     (time, nhru) float32 ...\n",
       "    potet                (time, nhru) float32 ...\n",
       "    basin_potet          (time) float64 ...\n",
       "    basin_sroff          (time) float64 ...\n",
       "    gwres_flow           (time, nhru) float32 ...\n",
       "    gw_in_soil           (time, nhru) float64 ...\n",
       "    gw_in_ssr            (time, nhru) float64 ...\n",
       "    hru_outflow          (time, nhru) float64 ...\n",
       "    seg_gwflow           (time, nsegment) float64 ...\n",
       "    seg_sroff            (time, nsegment) float64 ...\n",
       "    seg_ssflow           (time, nsegment) float64 ...\n",
       "    seg_inflow           (time, nsegment) float64 ...\n",
       "    seg_outflow          (time, nsegment) float64 ...\n",
       "    seg_upstream_inflow  (time, nsegment) float64 ..."
      ]
     },
     "execution_count": 5,
     "metadata": {},
     "output_type": "execute_result"
    }
   ],
   "source": [
    "dsoil"
   ]
  },
  {
   "cell_type": "code",
   "execution_count": 6,
   "metadata": {},
   "outputs": [
    {
     "data": {
      "text/plain": [
       "<xarray.Dataset>\n",
       "Dimensions:              (nhru: 14, nsegment: 7, time: 731)\n",
       "Coordinates:\n",
       "  * time                 (time) datetime64[ns] 1980-01-01 ... 1981-12-31\n",
       "Dimensions without coordinates: nhru, nsegment\n",
       "Data variables:\n",
       "    nhm_id               (nhru) int32 ...\n",
       "    nhm_seg              (nsegment) int32 ...\n",
       "    hru_actet            (time, nhru) float32 ...\n",
       "    hru_impervevap       (time, nhru) float32 ...\n",
       "    hru_intcpevap        (time, nhru) float32 ...\n",
       "    snow_evap            (time, nhru) float32 ...\n",
       "    perv_actet           (time, nhru) float32 ...\n",
       "    slow_flow            (time, nhru) float32 ...\n",
       "    recharge             (time, nhru) float32 ...\n",
       "    soil_moist           (time, nhru) float32 ...\n",
       "    soil_to_gw           (time, nhru) float32 ...\n",
       "    ssr_to_gw            (time, nhru) float32 ...\n",
       "    dprst_seep_hru       (time, nhru) float64 ...\n",
       "    dprst_evap_hru       (time, nhru) float32 ...\n",
       "    infil                (time, nhru) float32 ...\n",
       "    sroff                (time, nhru) float32 ...\n",
       "    dunnian_flow         (time, nhru) float32 ...\n",
       "    pkwater_equiv        (time, nhru) float64 ...\n",
       "    snowmelt             (time, nhru) float32 ...\n",
       "    soil_rechr           (time, nhru) float32 ...\n",
       "    contrib_fraction     (time, nhru) float32 ...\n",
       "    potet                (time, nhru) float32 ...\n",
       "    basin_potet          (time) float64 ...\n",
       "    basin_sroff          (time) float64 ...\n",
       "    gwres_flow           (time, nhru) float32 ...\n",
       "    gw_in_soil           (time, nhru) float64 ...\n",
       "    gw_in_ssr            (time, nhru) float64 ...\n",
       "    hru_outflow          (time, nhru) float64 ...\n",
       "    seg_gwflow           (time, nsegment) float64 ...\n",
       "    seg_sroff            (time, nsegment) float64 ...\n",
       "    seg_ssflow           (time, nsegment) float64 ...\n",
       "    seg_inflow           (time, nsegment) float64 ...\n",
       "    seg_outflow          (time, nsegment) float64 ...\n",
       "    seg_upstream_inflow  (time, nsegment) float64 ..."
      ]
     },
     "execution_count": 6,
     "metadata": {},
     "output_type": "execute_result"
    }
   ],
   "source": [
    "dsurf"
   ]
  },
  {
   "cell_type": "code",
   "execution_count": 7,
   "metadata": {},
   "outputs": [
    {
     "data": {
      "text/plain": [
       "<xarray.Dataset>\n",
       "Dimensions:              (nhru: 14, nsegment: 7, time: 731)\n",
       "Coordinates:\n",
       "  * time                 (time) datetime64[ns] 1980-01-01 ... 1981-12-31\n",
       "Dimensions without coordinates: nhru, nsegment\n",
       "Data variables:\n",
       "    nhm_id               (nhru) int32 ...\n",
       "    nhm_seg              (nsegment) int32 ...\n",
       "    hru_actet            (time, nhru) float32 ...\n",
       "    hru_impervevap       (time, nhru) float32 ...\n",
       "    hru_intcpevap        (time, nhru) float32 ...\n",
       "    snow_evap            (time, nhru) float32 ...\n",
       "    perv_actet           (time, nhru) float32 ...\n",
       "    slow_flow            (time, nhru) float32 ...\n",
       "    recharge             (time, nhru) float32 ...\n",
       "    soil_moist           (time, nhru) float32 ...\n",
       "    soil_to_gw           (time, nhru) float32 ...\n",
       "    ssr_to_gw            (time, nhru) float32 ...\n",
       "    dprst_seep_hru       (time, nhru) float64 ...\n",
       "    dprst_evap_hru       (time, nhru) float32 ...\n",
       "    infil                (time, nhru) float32 ...\n",
       "    sroff                (time, nhru) float32 ...\n",
       "    dunnian_flow         (time, nhru) float32 ...\n",
       "    pkwater_equiv        (time, nhru) float64 ...\n",
       "    snowmelt             (time, nhru) float32 ...\n",
       "    soil_rechr           (time, nhru) float32 ...\n",
       "    contrib_fraction     (time, nhru) float32 ...\n",
       "    potet                (time, nhru) float32 ...\n",
       "    basin_potet          (time) float64 ...\n",
       "    basin_sroff          (time) float64 ...\n",
       "    gwres_flow           (time, nhru) float32 ...\n",
       "    gw_in_soil           (time, nhru) float64 ...\n",
       "    gw_in_ssr            (time, nhru) float64 ...\n",
       "    hru_outflow          (time, nhru) float64 ...\n",
       "    seg_gwflow           (time, nsegment) float64 ...\n",
       "    seg_sroff            (time, nsegment) float64 ...\n",
       "    seg_ssflow           (time, nsegment) float64 ...\n",
       "    seg_inflow           (time, nsegment) float64 ...\n",
       "    seg_outflow          (time, nsegment) float64 ...\n",
       "    seg_upstream_inflow  (time, nsegment) float64 ..."
      ]
     },
     "execution_count": 7,
     "metadata": {},
     "output_type": "execute_result"
    }
   ],
   "source": [
    "dprms"
   ]
  },
  {
   "cell_type": "markdown",
   "metadata": {},
   "source": [
    "Parameters passed from bmi-soil to bmi-surface\n",
    "#### From climateflow class\n",
    "* soil_moist\n",
    "* soil_rechr\n",
    "\n",
    "#### From potet class\n",
    "* potet\n",
    "* basin_potet\n",
    "\n",
    "### From runoff class\n",
    "* infil\n",
    "* sroff\n",
    "* strm_seg_in\n"
   ]
  },
  {
   "cell_type": "code",
   "execution_count": 9,
   "metadata": {},
   "outputs": [],
   "source": [
    "# the following results from a future-warning message so implemented below\n",
    "from pandas.plotting import register_matplotlib_converters\n",
    "register_matplotlib_converters()"
   ]
  },
  {
   "cell_type": "code",
   "execution_count": 10,
   "metadata": {},
   "outputs": [
    {
     "data": {
      "image/png": "[encoded data removed]",
      "text/plain": [
       "<Figure size 432x288 with 3 Axes>"
      ]
     },
     "metadata": {
      "needs_background": "light"
     },
     "output_type": "display_data"
    },
    {
     "data": {
      "image/png": "[encoded data removed]",
      "text/plain": [
       "<Figure size 432x288 with 2 Axes>"
      ]
     },
     "metadata": {
      "needs_background": "light"
     },
     "output_type": "display_data"
    },
    {
     "data": {
      "image/png": "[encoded data removed]",
      "text/plain": [
       "<Figure size 432x288 with 2 Axes>"
      ]
     },
     "metadata": {
      "needs_background": "light"
     },
     "output_type": "display_data"
    },
    {
     "data": {
      "image/png": "[encoded data removed]",
      "text/plain": [
       "<Figure size 432x288 with 2 Axes>"
      ]
     },
     "metadata": {
      "needs_background": "light"
     },
     "output_type": "display_data"
    },
    {
     "data": {
      "image/png": "[encoded data removed]",
      "text/plain": [
       "<Figure size 432x288 with 2 Axes>"
      ]
     },
     "metadata": {
      "needs_background": "light"
     },
     "output_type": "display_data"
    },
    {
     "data": {
      "image/png": "[encoded data removed]",
      "text/plain": [
       "<Figure size 432x288 with 2 Axes>"
      ]
     },
     "metadata": {
      "needs_background": "light"
     },
     "output_type": "display_data"
    }
   ],
   "source": [
    "\n",
    "s_prcp = clim.prcp\n",
    "s_tmax = clim.tmax\n",
    "s_tmin = clim.tmin\n",
    "# s_infil = dsoil.infil\n",
    "# p_infil = dprms.infil\n",
    "fig, axes = plt.subplots(ncols=3)\n",
    "s_prcp[1:731,1].plot(ax=axes[0])\n",
    "s_tmax[1:731,1].plot(ax=axes[1])\n",
    "s_tmin[1:731,1].plot(ax=axes[2])\n",
    "# res = p_infil - s_infil\n",
    "# res[:,1].plot(ax=axes[1])\n",
    "axes[0].set_title('prcp')\n",
    "axes[1].set_title('tmax')\n",
    "axes[1].set_title('tmin')\n",
    "plt.tight_layout()\n",
    "plt.draw()\n",
    "\n",
    "s_infil = dsoil.infil\n",
    "p_infil = dprms.infil\n",
    "fig, axes = plt.subplots(ncols=2)\n",
    "s_infil[:,1].plot(ax=axes[0])\n",
    "p_infil[:,1].plot(ax=axes[0])\n",
    "res = p_infil - s_infil\n",
    "res[:,1].plot(ax=axes[1])\n",
    "axes[0].set_title('infil')\n",
    "axes[1].set_title('residual (prms-bmi)')\n",
    "plt.tight_layout()\n",
    "plt.draw()\n",
    "\n",
    "s_sroff = dsoil.sroff\n",
    "p_sroff = dprms.sroff\n",
    "fig, axes = plt.subplots(ncols=2)\n",
    "s_sroff[:,1].plot(ax=axes[0])\n",
    "p_sroff[:,1].plot(ax=axes[0])\n",
    "res_sroff = p_sroff - s_sroff\n",
    "res_sroff[:,1].plot(ax=axes[1])\n",
    "axes[0].set_title('sroff')\n",
    "axes[1].set_title('residual (prms-bmi)')\n",
    "plt.tight_layout()\n",
    "plt.draw()\n",
    "\n",
    "# s_dflow = dsoil.dunnian_flow\n",
    "# p_dflow = dprms.dunnian_flow\n",
    "# fig, axes = plt.subplots(ncols=2)\n",
    "# s_dflow[:,1].plot(ax=axes[0])\n",
    "# p_dflow[:,1].plot(ax=axes[0])\n",
    "# res_sroff = p_dflow - s_dflow\n",
    "# res_sroff[:,1].plot(ax=axes[1])\n",
    "# axes[0].set_title('dunnian_flow')\n",
    "# axes[1].set_title('residual (prms-bmi)')\n",
    "# plt.tight_layout()\n",
    "# plt.draw()\n",
    "\n",
    "s_soil_rechr = dsoil.soil_rechr\n",
    "# surf_soil_rechr = dsurf.soil_rechr\n",
    "p_soil_rechr = dprms.soil_rechr\n",
    "fig, axes = plt.subplots(ncols=2)\n",
    "s_soil_rechr[:,1].plot(ax=axes[0])\n",
    "p_soil_rechr[:,1].plot(ax=axes[0])\n",
    "res = p_soil_rechr - s_soil_rechr\n",
    "res[:,1].plot(ax=axes[1])\n",
    "# s_soil_rechr[:,1].plot(ax=axes[2])\n",
    "# surf_soil_rechr[:,1].plot(ax=axes[2])\n",
    "# res2 = s_soil_rechr - surf_soil_rechr\n",
    "# res2[:,1].plot(ax=axes[3])\n",
    "axes[0].set_title('soil_rechr')\n",
    "axes[1].set_title('residual (prms-bmi)')\n",
    "plt.tight_layout()\n",
    "plt.draw()\n",
    "\n",
    "# s_soil_rechr_max = dsoil.soil_rechr_max\n",
    "# p_soil_rechr_max = dprms.soil_rechr_max\n",
    "# fig, axes = plt.subplots(ncols=2)\n",
    "# s_soil_rechr_max[:,1].plot(ax=axes[0])\n",
    "# p_soil_rechr_max[:,1].plot(ax=axes[0])\n",
    "# res = p_soil_rechr_max - s_soil_rechr_max\n",
    "# res[:,1].plot(ax=axes[1])\n",
    "# axes[0].set_title('soil_rechr_max')\n",
    "# axes[1].set_title('residual (prms-bmi)')\n",
    "# plt.tight_layout()\n",
    "# plt.draw()\n",
    "\n",
    "s_smoist = dsoil.soil_moist\n",
    "p_smoist = dprms.soil_moist\n",
    "fig, axes = plt.subplots(ncols=2)\n",
    "s_smoist[:,1].plot(ax=axes[0])\n",
    "p_smoist[:,1].plot(ax=axes[0])\n",
    "res = p_smoist - s_smoist\n",
    "res[:,1].plot(ax=axes[1])\n",
    "axes[0].set_title('soil_moist')\n",
    "axes[1].set_title('residual (prms-bmi)')\n",
    "plt.tight_layout()\n",
    "plt.draw()\n",
    "\n",
    "s_potet = dsoil.potet\n",
    "p_potet = dprms.potet\n",
    "fig, axes = plt.subplots(ncols=2)\n",
    "s_potet[:,1].plot(ax=axes[0])\n",
    "p_potet[:,1].plot(ax=axes[0])\n",
    "res = p_potet - s_potet\n",
    "res[:,1].plot(ax=axes[1])\n",
    "axes[0].set_title('potet')\n",
    "axes[1].set_title('residual (prms-bmi)')\n",
    "plt.tight_layout()\n",
    "plt.draw()\n"
   ]
  },
  {
   "cell_type": "code",
   "execution_count": null,
   "metadata": {},
   "outputs": [],
   "source": [
    "res_sroff[150:250]\n",
    "print(np.shape(res_sroff))\n",
    "print(type(res_sroff))\n",
    "print(s_sroff[151, 1], p_sroff[151,1], res_sroff[151])\n",
    "print(s_sroff[151, 1] - p_sroff[151,1])"
   ]
  },
  {
   "cell_type": "code",
   "execution_count": null,
   "metadata": {},
   "outputs": [],
   "source": [
    "print(s_sroff[150:250,1])\n",
    "print(p_sroff[150:250,1])\n",
    "print(np.shape(res_sroff))\n",
    "print(res_sroff[150:250])"
   ]
  },
  {
   "cell_type": "code",
   "execution_count": null,
   "metadata": {},
   "outputs": [],
   "source": [
    "s_smoist = dsoil.soil_moist\n",
    "p_smoist = dprms.soil_moist\n",
    "fig, axes = plt.subplots(ncols=2)\n",
    "s_smoist[:,1].plot(ax=axes[0])\n",
    "p_smoist[:,1].plot(ax=axes[0])\n",
    "res = p_smoist - s_smoist\n",
    "res[:,1].plot(ax=axes[1])\n",
    "axes[0].set_title('soil_moist')\n",
    "axes[1].set_title('residual (prms-bmi)')\n",
    "plt.tight_layout()\n",
    "plt.draw()\n",
    "\n",
    "s_actet = dsoil.hru_actet\n",
    "p_actet = dprms.hru_actet\n",
    "fig, axes = plt.subplots(ncols=2)\n",
    "s_actet[:,1].plot(ax=axes[0])\n",
    "p_actet[:,1].plot(ax=axes[0])\n",
    "res = s_actet - p_actet\n",
    "res[:,1].plot(ax=axes[1])\n",
    "axes[0].set_title('hru_actet')\n",
    "axes[1].set_title('residual (prms-bmi)')\n",
    "plt.tight_layout()\n",
    "plt.draw()\n",
    "\n",
    "s_slow_flow = dsoil.slow_flow\n",
    "p_slow_flow = dprms.slow_flow\n",
    "fig, axes = plt.subplots(ncols=2)\n",
    "p_slow_flow[:,1].plot(ax=axes[0])\n",
    "s_slow_flow[:,1].plot(ax=axes[0])\n",
    "res = p_slow_flow - s_slow_flow\n",
    "res[:,1].plot(ax=axes[1])\n",
    "axes[0].set_title('slow_flow')\n",
    "axes[1].set_title('residual (prms-bmi)')\n",
    "plt.tight_layout()\n",
    "plt.draw()\n",
    "\n",
    "s_rechr = dsoil.recharge\n",
    "p_rechr = dprms.recharge\n",
    "fig, axes = plt.subplots(ncols=2)\n",
    "p_rechr[:,1].plot(ax=axes[0])\n",
    "s_rechr[:,1].plot(ax=axes[0])\n",
    "res = p_rechr - s_rechr\n",
    "res[:,1].plot(ax=axes[1])\n",
    "axes[0].set_title('recharge')\n",
    "axes[1].set_title('residual (prms-bmi)')\n",
    "plt.tight_layout()\n",
    "plt.draw()"
   ]
  },
  {
   "cell_type": "code",
   "execution_count": null,
   "metadata": {},
   "outputs": [],
   "source": [
    "s_smoist = dsoil.soil_moist\n",
    "p_smoist = dprms.soil_moist\n",
    "fig, axes = plt.subplots(ncols=2)\n",
    "s_smoist[:,1].plot(ax=axes[0])\n",
    "p_smoist[:,1].plot(ax=axes[0])\n",
    "res = p_smoist - s_smoist\n",
    "res[:,1].plot(ax=axes[1])\n",
    "axes[0].set_title('soil_moist')\n",
    "axes[1].set_title('residual (prms-bmi)')\n",
    "plt.tight_layout()\n",
    "plt.draw()\n",
    "\n",
    "s_potetrechr = dsoil.potet_rechr\n",
    "p_potetrechr = dprms.potet_rechr\n",
    "fig, axes = plt.subplots(ncols=2)\n",
    "s_potetrechr[:,1].plot(ax=axes[0])\n",
    "p_potetrechr[:,1].plot(ax=axes[0])\n",
    "res = p_potetrechr - s_potetrechr\n",
    "res[:,1].plot(ax=axes[1])\n",
    "axes[0].set_title('potet_rechr')\n",
    "axes[1].set_title('residual (prms-bmi)')\n",
    "plt.tight_layout()\n",
    "plt.draw()\n",
    "\n",
    "s_potetlower = dsoil.potet_lower\n",
    "p_potetlower = dprms.potet_lower\n",
    "fig, axes = plt.subplots(ncols=2)\n",
    "s_potetlower[:,1].plot(ax=axes[0])\n",
    "p_potetlower[:,1].plot(ax=axes[0])\n",
    "res = p_potetlower - s_potetlower\n",
    "res[:,1].plot(ax=axes[1])\n",
    "axes[0].set_title('potet_lower')\n",
    "axes[1].set_title('residual (prms-bmi)')\n",
    "plt.tight_layout()\n",
    "plt.draw()\n",
    "\n",
    "s_infil = dsoil.infil\n",
    "p_infil = dprms.infil\n",
    "fig, axes = plt.subplots(ncols=2)\n",
    "s_infil[:,1].plot(ax=axes[0])\n",
    "p_infil[:,1].plot(ax=axes[0])\n",
    "res = p_infil - s_infil\n",
    "res[:,1].plot(ax=axes[1])\n",
    "axes[0].set_title('infil')\n",
    "axes[1].set_title('residual (prms-bmi)')\n",
    "plt.tight_layout()\n",
    "plt.draw()\n",
    "\n",
    "s_pkwe = dsurf.pkwater_equiv\n",
    "p_pkwe = dprms.pkwater_equiv\n",
    "fig, axes = plt.subplots(ncols=2)\n",
    "s_pkwe[:,1].plot(ax=axes[0])\n",
    "p_pkwe[:,1].plot(ax=axes[0])\n",
    "res = p_pkwe - s_pkwe\n",
    "res[:,1].plot(ax=axes[1])\n",
    "axes[0].set_title('pkwater_equiv')\n",
    "axes[1].set_title('residual (prms-bmi)')\n",
    "plt.tight_layout()\n",
    "plt.draw()\n",
    "\n",
    "s_snwm = dsurf.snowmelt\n",
    "p_snwm = dprms.snowmelt\n",
    "fig, axes = plt.subplots(ncols=2)\n",
    "s_snwm[:,1].plot(ax=axes[0])\n",
    "p_snwm[:,1].plot(ax=axes[0])\n",
    "res = p_snwm - s_snwm\n",
    "res[:,1].plot(ax=axes[1])\n",
    "axes[0].set_title('snowmelt')\n",
    "axes[1].set_title('residual (prms-bmi)')\n",
    "plt.tight_layout()\n",
    "plt.draw()\n",
    "\n",
    "s_soil_rechr = dsoil.soil_rechr\n",
    "surf_soil_rechr = dsurf.soil_rechr\n",
    "p_soil_rechr = dprms.soil_rechr\n",
    "fig, axes = plt.subplots(ncols=2)\n",
    "s_soil_rechr[:,1].plot(ax=axes[0])\n",
    "p_soil_rechr[:,1].plot(ax=axes[0])\n",
    "res = p_soil_rechr - s_soil_rechr\n",
    "res[:,1].plot(ax=axes[1])\n",
    "# s_soil_rechr[:,1].plot(ax=axes[2])\n",
    "# surf_soil_rechr[:,1].plot(ax=axes[2])\n",
    "# res2 = s_soil_rechr - surf_soil_rechr\n",
    "# res2[:,1].plot(ax=axes[3])\n",
    "axes[0].set_title('soil_rechr')\n",
    "axes[1].set_title('residual (prms-bmi)')\n",
    "plt.tight_layout()\n",
    "plt.draw()\n",
    "\n",
    "s_cnfr = dsurf.contrib_fraction\n",
    "p_cnfr = dprms.contrib_fraction\n",
    "fig, axes = plt.subplots(ncols=2)\n",
    "s_cnfr[:,1].plot(ax=axes[0])\n",
    "p_cnfr[:,1].plot(ax=axes[0])\n",
    "res = p_cnfr - s_cnfr\n",
    "res[:,1].plot(ax=axes[1])\n",
    "axes[0].set_title('contrib_fraction')\n",
    "axes[1].set_title('residual (prms-bmi)')\n",
    "plt.tight_layout()\n",
    "plt.draw()"
   ]
  },
  {
   "cell_type": "code",
   "execution_count": null,
   "metadata": {},
   "outputs": [],
   "source": [
    "s_soil_rechr = dsoil.soil_rechr\n",
    "surf_soil_rechr = dsurf.soil_rechr\n",
    "p_soil_rechr = dprms.soil_rechr\n",
    "fig, axes = plt.subplots(ncols=2)\n",
    "# s_soil_rechr[:,1].plot(ax=axes[0])\n",
    "# p_soil_rechr[:,1].plot(ax=axes[0])\n",
    "# res = p_soil_rechr - s_soil_rechr\n",
    "# res[:,1].plot(ax=axes[1])\n",
    "s_soil_rechr[:,1].plot(ax=axes[0])\n",
    "surf_soil_rechr[:,1].plot(ax=axes[0],linestyle=\"--\")\n",
    "res2 = s_soil_rechr - surf_soil_rechr\n",
    "res2[:,1].plot(ax=axes[1])\n",
    "axes[0].set_title('soil_rechr')\n",
    "axes[1].set_title('residual (prms-bmi)')\n",
    "plt.tight_layout()\n",
    "plt.draw()"
   ]
  },
  {
   "cell_type": "code",
   "execution_count": null,
   "metadata": {},
   "outputs": [],
   "source": [
    "res2[:,1].plot()\n",
    "# (s_soil_rechr[:,1]+0.1).plot()\n",
    "# surf_soil_rechr[:,1].plot()"
   ]
  },
  {
   "cell_type": "code",
   "execution_count": null,
   "metadata": {},
   "outputs": [],
   "source": [
    "print(res2[150:250,1])\n",
    "print(s_soil_rechr[150:250,1])\n",
    "print(surf_soil_rechr[150:250,1])"
   ]
  },
  {
   "cell_type": "code",
   "execution_count": null,
   "metadata": {},
   "outputs": [],
   "source": [
    "\n",
    "\n",
    "s_impervevap = dsoil.hru_impervevap\n",
    "p_impervevap = dprms.hru_impervevap\n",
    "fig, axes = plt.subplots(ncols=2)\n",
    "p_impervevap[:,1].plot(ax=axes[0])\n",
    "s_impervevap[:,1].plot(ax=axes[0])\n",
    "res = p_impervevap - s_impervevap\n",
    "res[:,1].plot(ax=axes[1])\n",
    "axes[0].set_title('hru_impervevap')\n",
    "axes[1].set_title('residual (prms-bmi)')\n",
    "plt.tight_layout()\n",
    "plt.draw()\n",
    "\n",
    "s_intcpevap = dsoil.hru_intcpevap\n",
    "p_intcpevap = dprms.hru_intcpevap\n",
    "fig, axes = plt.subplots(ncols=2)\n",
    "p_intcpevap[:,1].plot(ax=axes[0])\n",
    "s_intcpevap[:,1].plot(ax=axes[0])\n",
    "res = p_intcpevap - s_intcpevap\n",
    "res[:,1].plot(ax=axes[1])\n",
    "axes[0].set_title('hru_intcpevap')\n",
    "axes[1].set_title('residual (prms-bmi)')\n",
    "plt.tight_layout()\n",
    "plt.draw()\n",
    "\n",
    "s_snowevap = dsoil.snow_evap\n",
    "p_snowevap = dprms.snow_evap\n",
    "fig, axes = plt.subplots(ncols=2)\n",
    "p_snowevap[:,1].plot(ax=axes[0])\n",
    "s_snowevap[:,1].plot(ax=axes[0])\n",
    "res = p_snowevap - s_snowevap\n",
    "res[:,1].plot(ax=axes[1])\n",
    "axes[0].set_title('snow_evap')\n",
    "axes[1].set_title('residual (prms-bmi)')\n",
    "plt.tight_layout()\n",
    "plt.draw()\n",
    "\n",
    "s_dprstevap = dsoil.dprst_evap_hru\n",
    "p_dprstevap = dprms.dprst_evap_hru\n",
    "fig, axes = plt.subplots(ncols=2)\n",
    "p_dprstevap[:,1].plot(ax=axes[0])\n",
    "s_dprstevap[:,1].plot(ax=axes[0])\n",
    "res = p_dprstevap - s_dprstevap\n",
    "res[:,1].plot(ax=axes[1])\n",
    "axes[0].set_title('dprst_evap_hru')\n",
    "axes[1].set_title('residual (prms-bmi)')\n",
    "plt.tight_layout()\n",
    "plt.draw()\n",
    "\n",
    "s_pervactet = dsoil.perv_actet\n",
    "p_pervactet = dprms.perv_actet\n",
    "fig, axes = plt.subplots(ncols=2)\n",
    "p_pervactet[:,1].plot(ax=axes[0])\n",
    "s_pervactet[:,1].plot(ax=axes[0])\n",
    "res = p_pervactet - s_pervactet\n",
    "res[:,1].plot(ax=axes[1])\n",
    "axes[0].set_title('perv_actet')\n",
    "axes[1].set_title('residual (prms-bmi)')\n",
    "plt.tight_layout()\n",
    "plt.draw()\n",
    "\n",
    "\n",
    "s_soil_rechr = dsoil.soil_rechr\n",
    "p_soil_rechr = dprms.soil_rechr\n",
    "fig, axes = plt.subplots(ncols=2)\n",
    "s_soil_rechr[:,1].plot(ax=axes[0])\n",
    "p_soil_rechr[:,1].plot(ax=axes[0])\n",
    "res = p_soil_rechr - s_soil_rechr\n",
    "res[:,1].plot(ax=axes[1])\n",
    "axes[0].set_title('soil_rechr')\n",
    "axes[1].set_title('residual (prms-bmi)')\n",
    "plt.tight_layout()\n",
    "plt.draw()"
   ]
  },
  {
   "cell_type": "code",
   "execution_count": null,
   "metadata": {},
   "outputs": [],
   "source": []
  },
  {
   "cell_type": "code",
   "execution_count": null,
   "metadata": {},
   "outputs": [],
   "source": [
    "s_actet = dsoil.slow_flow\n",
    "p_actet = dprms.slow_flow\n",
    "fig, axes = plt.subplots(ncols=2)\n",
    "p_actet[:,1].plot(ax=axes[0])\n",
    "s_actet[:,1].plot(ax=axes[0])\n",
    "res = p_actet - s_actet\n",
    "res[:,1].plot(ax=axes[1])\n",
    "axes[0].set_title('slow_flow')\n",
    "axes[1].set_title('residual (prms-bmi)')\n",
    "plt.tight_layout()\n",
    "plt.draw()"
   ]
  },
  {
   "cell_type": "code",
   "execution_count": null,
   "metadata": {},
   "outputs": [],
   "source": [
    "s_rechr = dsoil.recharge\n",
    "p_rechr = dprms.recharge\n",
    "fig, axes = plt.subplots(ncols=2)\n",
    "p_rechr[:,1].plot(ax=axes[0])\n",
    "s_rechr[:,1].plot(ax=axes[0])\n",
    "res = p_rechr - s_rechr\n",
    "res[:,1].plot(ax=axes[1])\n",
    "axes[0].set_title('recharge')\n",
    "axes[1].set_title('residual (prms-bmi)')\n",
    "plt.tight_layout()\n",
    "plt.draw()"
   ]
  },
  {
   "cell_type": "code",
   "execution_count": null,
   "metadata": {},
   "outputs": [],
   "source": [
    "s_s2gw = dsoil.soil_to_gw\n",
    "p_s2gw = dprms.soil_to_gw\n",
    "fig, axes = plt.subplots(ncols=2)\n",
    "p_s2gw[:,1].plot(ax=axes[0])\n",
    "s_s2gw[:,1].plot(ax=axes[0])\n",
    "res = p_s2gw - s_s2gw\n",
    "res[:,1].plot(ax=axes[1])\n",
    "axes[0].set_title('soil_to_gw')\n",
    "axes[1].set_title('residual (prms-bmi)')\n",
    "plt.tight_layout()\n",
    "plt.draw()"
   ]
  },
  {
   "cell_type": "code",
   "execution_count": null,
   "metadata": {},
   "outputs": [],
   "source": [
    "s_ssr2gw = dsoil.ssr_to_gw\n",
    "p_ssr2gw = dprms.ssr_to_gw\n",
    "fig, axes = plt.subplots(ncols=2)\n",
    "p_ssr2gw[:,1].plot(ax=axes[0])\n",
    "s_ssr2gw[:,1].plot(ax=axes[0])\n",
    "res = p_ssr2gw - s_ssr2gw\n",
    "res[:,1].plot(ax=axes[1])\n",
    "axes[0].set_title('ssr_to_gw')\n",
    "axes[1].set_title('residual (prms-bmi)')\n",
    "plt.tight_layout()\n",
    "plt.draw()"
   ]
  },
  {
   "cell_type": "code",
   "execution_count": null,
   "metadata": {},
   "outputs": [],
   "source": [
    "s_dprstseep = dsoil.dprst_seep_hru\n",
    "p_dprstseep = dprms.dprst_seep_hru\n",
    "fig, axes = plt.subplots(ncols=2)\n",
    "p_dprstseep[:,1].plot(ax=axes[0])\n",
    "s_dprstseep[:,1].plot(ax=axes[0])\n",
    "res = p_dprstseep - s_dprstseep\n",
    "res[:,1].plot(ax=axes[1])\n",
    "axes[0].set_title('dprst_seep_hru')\n",
    "axes[1].set_title('residual (prms-bmi)')\n",
    "plt.tight_layout()\n",
    "plt.draw()"
   ]
  },
  {
   "cell_type": "code",
   "execution_count": null,
   "metadata": {},
   "outputs": [],
   "source": [
    "s_impervevap = dsoil.hru_impervevap\n",
    "p_impervevap = dprms.hru_impervevap\n",
    "fig, axes = plt.subplots(ncols=2)\n",
    "p_impervevap[:,1].plot(ax=axes[0])\n",
    "s_impervevap[:,1].plot(ax=axes[0])\n",
    "res = p_impervevap - s_impervevap\n",
    "res[:,1].plot(ax=axes[1])\n",
    "axes[0].set_title('hru_impervevap')\n",
    "axes[1].set_title('residual (prms-bmi)')\n",
    "plt.tight_layout()\n",
    "plt.draw()"
   ]
  },
  {
   "cell_type": "code",
   "execution_count": null,
   "metadata": {},
   "outputs": [],
   "source": [
    "s_intcpevap = dsoil.hru_intcpevap\n",
    "p_iintcpevap = dprms.hru_intcpevap\n",
    "fig, axes = plt.subplots(ncols=2)\n",
    "p_iintcpevap[:,1].plot(ax=axes[0])\n",
    "s_intcpevap[:,1].plot(ax=axes[0])\n",
    "res = p_iintcpevap - s_intcpevap\n",
    "res[:,1].plot(ax=axes[1])\n",
    "axes[0].set_title('hru_intcpevap')\n",
    "axes[1].set_title('residual (prms-bmi)')\n",
    "plt.tight_layout()\n",
    "plt.draw()"
   ]
  },
  {
   "cell_type": "code",
   "execution_count": null,
   "metadata": {},
   "outputs": [],
   "source": [
    "s_snowevap = dsoil.snow_evap\n",
    "p_snowevap = dprms.snow_evap\n",
    "fig, axes = plt.subplots(ncols=2)\n",
    "p_iintcpevap[:,1].plot(ax=axes[0])\n",
    "s_snowevap[:,1].plot(ax=axes[0])\n",
    "res = p_snowevap - s_snowevap\n",
    "res[:,1].plot(ax=axes[1])\n",
    "axes[0].set_title('snow_evap')\n",
    "axes[1].set_title('residual (prms-bmi)')\n",
    "plt.tight_layout()\n",
    "plt.draw()"
   ]
  },
  {
   "cell_type": "code",
   "execution_count": null,
   "metadata": {},
   "outputs": [],
   "source": [
    "s_dprstevap = dsoil.dprst_evap_hru\n",
    "p_dprstevap = dprms.dprst_evap_hru\n",
    "fig, axes = plt.subplots(ncols=2)\n",
    "p_iintcpevap[:,1].plot(ax=axes[0])\n",
    "s_snowevap[:,1].plot(ax=axes[0])\n",
    "res = p_snowevap - s_snowevap\n",
    "res[:,1].plot(ax=axes[1])\n",
    "axes[0].set_title('snow_evap')\n",
    "axes[1].set_title('residual (prms-bmi)')\n",
    "plt.tight_layout()\n",
    "plt.draw()"
   ]
  }
 ],
 "metadata": {
  "kernelspec": {
   "display_name": "Python 3",
   "language": "python",
   "name": "python3"
  },
  "language_info": {
   "codemirror_mode": {
    "name": "ipython",
    "version": 3
   },
   "file_extension": ".py",
   "mimetype": "text/x-python",
   "name": "python",
   "nbconvert_exporter": "python",
   "pygments_lexer": "ipython3",
   "version": "3.7.5"
  }
 },
 "nbformat": 4,
 "nbformat_minor": 4
}
