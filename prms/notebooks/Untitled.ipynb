{
 "cells": [
  {
   "cell_type": "code",
   "execution_count": 2,
   "metadata": {},
   "outputs": [],
   "source": [
    "import onhm\n",
    "from pathlib import Path\n",
    "import xarray as xr"
   ]
  },
  {
   "cell_type": "code",
   "execution_count": 4,
   "metadata": {},
   "outputs": [
    {
     "data": {
      "text/html": [
       "<pre>&lt;xarray.Dataset&gt;\n",
       "Dimensions:              (nhru: 14, nsegment: 7, time: 731)\n",
       "Coordinates:\n",
       "  * time                 (time) datetime64[ns] 1980-01-01 ... 1981-12-31\n",
       "Dimensions without coordinates: nhru, nsegment\n",
       "Data variables:\n",
       "    nhm_id               (nhru) int32 ...\n",
       "    nhm_seg              (nsegment) int32 ...\n",
       "    hru_actet            (time, nhru) float32 ...\n",
       "    hru_impervevap       (time, nhru) float32 ...\n",
       "    hru_intcpevap        (time, nhru) float32 ...\n",
       "    snow_evap            (time, nhru) float32 ...\n",
       "    perv_actet           (time, nhru) float32 ...\n",
       "    slow_flow            (time, nhru) float32 ...\n",
       "    recharge             (time, nhru) float32 ...\n",
       "    soil_moist           (time, nhru) float32 ...\n",
       "    soil_to_gw           (time, nhru) float32 ...\n",
       "    ssr_to_gw            (time, nhru) float32 ...\n",
       "    dprst_seep_hru       (time, nhru) float64 ...\n",
       "    dprst_evap_hru       (time, nhru) float32 ...\n",
       "    infil                (time, nhru) float32 ...\n",
       "    sroff                (time, nhru) float32 ...\n",
       "    dunnian_flow         (time, nhru) float32 ...\n",
       "    pkwater_equiv        (time, nhru) float64 ...\n",
       "    snowmelt             (time, nhru) float32 ...\n",
       "    soil_rechr           (time, nhru) float32 ...\n",
       "    contrib_fraction     (time, nhru) float32 ...\n",
       "    potet                (time, nhru) float32 ...\n",
       "    basin_potet          (time) float64 ...\n",
       "    basin_sroff          (time) float64 ...\n",
       "    gwres_flow           (time, nhru) float32 ...\n",
       "    gw_in_soil           (time, nhru) float64 ...\n",
       "    gw_in_ssr            (time, nhru) float64 ...\n",
       "    hru_outflow          (time, nhru) float64 ...\n",
       "    seg_gwflow           (time, nsegment) float64 ...\n",
       "    seg_sroff            (time, nsegment) float64 ...\n",
       "    seg_ssflow           (time, nsegment) float64 ...\n",
       "    seg_inflow           (time, nsegment) float64 ...\n",
       "    seg_outflow          (time, nsegment) float64 ...\n",
       "    seg_upstream_inflow  (time, nsegment) float64 ...</pre>"
      ],
      "text/plain": [
       "<xarray.Dataset>\n",
       "Dimensions:              (nhru: 14, nsegment: 7, time: 731)\n",
       "Coordinates:\n",
       "  * time                 (time) datetime64[ns] 1980-01-01 ... 1981-12-31\n",
       "Dimensions without coordinates: nhru, nsegment\n",
       "Data variables:\n",
       "    nhm_id               (nhru) int32 ...\n",
       "    nhm_seg              (nsegment) int32 ...\n",
       "    hru_actet            (time, nhru) float32 ...\n",
       "    hru_impervevap       (time, nhru) float32 ...\n",
       "    hru_intcpevap        (time, nhru) float32 ...\n",
       "    snow_evap            (time, nhru) float32 ...\n",
       "    perv_actet           (time, nhru) float32 ...\n",
       "    slow_flow            (time, nhru) float32 ...\n",
       "    recharge             (time, nhru) float32 ...\n",
       "    soil_moist           (time, nhru) float32 ...\n",
       "    soil_to_gw           (time, nhru) float32 ...\n",
       "    ssr_to_gw            (time, nhru) float32 ...\n",
       "    dprst_seep_hru       (time, nhru) float64 ...\n",
       "    dprst_evap_hru       (time, nhru) float32 ...\n",
       "    infil                (time, nhru) float32 ...\n",
       "    sroff                (time, nhru) float32 ...\n",
       "    dunnian_flow         (time, nhru) float32 ...\n",
       "    pkwater_equiv        (time, nhru) float64 ...\n",
       "    snowmelt             (time, nhru) float32 ...\n",
       "    soil_rechr           (time, nhru) float32 ...\n",
       "    contrib_fraction     (time, nhru) float32 ...\n",
       "    potet                (time, nhru) float32 ...\n",
       "    basin_potet          (time) float64 ...\n",
       "    basin_sroff          (time) float64 ...\n",
       "    gwres_flow           (time, nhru) float32 ...\n",
       "    gw_in_soil           (time, nhru) float64 ...\n",
       "    gw_in_ssr            (time, nhru) float64 ...\n",
       "    hru_outflow          (time, nhru) float64 ...\n",
       "    seg_gwflow           (time, nsegment) float64 ...\n",
       "    seg_sroff            (time, nsegment) float64 ...\n",
       "    seg_ssflow           (time, nsegment) float64 ...\n",
       "    seg_inflow           (time, nsegment) float64 ...\n",
       "    seg_outflow          (time, nsegment) float64 ...\n",
       "    seg_upstream_inflow  (time, nsegment) float64 ..."
      ]
     },
     "execution_count": 4,
     "metadata": {},
     "output_type": "execute_result"
    }
   ],
   "source": [
    "prms_file = 'B:/gitbmi/prms/pipestem/output/summary_daily.nc'\n",
    "pprms_file = 'B:/gitbmi/prms/_build/prms/pipestem/output/summary_daily.nc'\n",
    "drprms_file = 'B:/gitbmi/prms/_build/prms/delaware_river/output/summary_daily.nc'\n",
    "dprms = xr.open_dataset(prms_file)\n",
    "pdprms = xr.open_dataset(pprms_file)\n",
    "drdprms = xr.open_dataset(drprms_file)\n",
    "pdprms"
   ]
  },
  {
   "cell_type": "code",
   "execution_count": null,
   "metadata": {},
   "outputs": [],
   "source": [
    "ds = xr.open_dataset()\n",
    "ds"
   ]
  },
  {
   "cell_type": "code",
   "execution_count": null,
   "metadata": {},
   "outputs": [],
   "source": [
    "path = r'B:\\gitbmi\\prms\\_build\\prms\\delaware_river\\output/'\n",
    "ext = '.nc'\n",
    "ds_out = onhm.reader.get_DataSet(path, ext)\n",
    "ds_out.head()"
   ]
  },
  {
   "cell_type": "code",
   "execution_count": null,
   "metadata": {},
   "outputs": [],
   "source": []
  }
 ],
 "metadata": {
  "kernelspec": {
   "display_name": "Python 3",
   "language": "python",
   "name": "python3"
  },
  "language_info": {
   "codemirror_mode": {
    "name": "ipython",
    "version": 3
   },
   "file_extension": ".py",
   "mimetype": "text/x-python",
   "name": "python",
   "nbconvert_exporter": "python",
   "pygments_lexer": "ipython3",
   "version": "3.7.6"
  }
 },
 "nbformat": 4,
 "nbformat_minor": 4
}
